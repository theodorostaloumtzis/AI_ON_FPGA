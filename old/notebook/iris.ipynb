{
 "cells": [
  {
   "cell_type": "code",
   "execution_count": 1,
   "id": "60b703b7",
   "metadata": {},
   "outputs": [
    {
     "name": "stderr",
     "output_type": "stream",
     "text": [
      "2025-04-09 15:47:37.865351: I tensorflow/core/util/port.cc:113] oneDNN custom operations are on. You may see slightly different numerical results due to floating-point round-off errors from different computation orders. To turn them off, set the environment variable `TF_ENABLE_ONEDNN_OPTS=0`.\n",
      "2025-04-09 15:47:37.866874: I external/local_tsl/tsl/cuda/cudart_stub.cc:31] Could not find cuda drivers on your machine, GPU will not be used.\n",
      "2025-04-09 15:47:37.885087: E external/local_xla/xla/stream_executor/cuda/cuda_dnn.cc:9261] Unable to register cuDNN factory: Attempting to register factory for plugin cuDNN when one has already been registered\n",
      "2025-04-09 15:47:37.885100: E external/local_xla/xla/stream_executor/cuda/cuda_fft.cc:607] Unable to register cuFFT factory: Attempting to register factory for plugin cuFFT when one has already been registered\n",
      "2025-04-09 15:47:37.885770: E external/local_xla/xla/stream_executor/cuda/cuda_blas.cc:1515] Unable to register cuBLAS factory: Attempting to register factory for plugin cuBLAS when one has already been registered\n",
      "2025-04-09 15:47:37.888982: I external/local_tsl/tsl/cuda/cudart_stub.cc:31] Could not find cuda drivers on your machine, GPU will not be used.\n",
      "2025-04-09 15:47:37.889288: I tensorflow/core/platform/cpu_feature_guard.cc:182] This TensorFlow binary is optimized to use available CPU instructions in performance-critical operations.\n",
      "To enable the following instructions: AVX2 AVX512F AVX512_VNNI AVX512_BF16 FMA, in other operations, rebuild TensorFlow with the appropriate compiler flags.\n",
      "2025-04-09 15:47:38.227564: W tensorflow/compiler/tf2tensorrt/utils/py_utils.cc:38] TF-TRT Warning: Could not find TensorRT\n"
     ]
    }
   ],
   "source": [
    "import tensorflow as tf\n",
    "import numpy as np\n",
    "import matplotlib.pyplot as plt\n",
    "import os\n",
    "\n",
    "os.environ['XILINX_VITIS'] = '/tools/Xilinx/Vitis/2024.2'\n",
    "os.environ['PATH'] = '/tools/Xilinx/Vivado/2020.1/bin:' + os.environ['PATH']\n",
    "os.environ['PATH'] = '/tools/Xilinx/Vitis_HLS/2024.2/bin:' + os.environ['PATH']"
   ]
  },
  {
   "cell_type": "code",
   "execution_count": 2,
   "id": "8af7bccd",
   "metadata": {},
   "outputs": [],
   "source": [
    "from sklearn.datasets import load_iris\n",
    "from sklearn.model_selection import train_test_split\n",
    "from sklearn.preprocessing import StandardScaler\n",
    "\n",
    "# Load dataset\n",
    "iris = load_iris()\n",
    "X = iris.data\n",
    "y = iris.target\n",
    "\n",
    "# Optionally scale features\n",
    "scaler = StandardScaler()\n",
    "X = scaler.fit_transform(X)\n",
    "\n",
    "# Split into training and testing sets\n",
    "x_train, x_test, y_train, y_test = train_test_split(X, y, test_size=0.2, random_state=42)\n",
    "\n",
    "\n",
    "from tensorflow.keras.utils import to_categorical\n",
    "\n",
    "y_train = to_categorical(y_train)\n",
    "y_test = to_categorical(y_test)\n"
   ]
  },
  {
   "cell_type": "code",
   "execution_count": 3,
   "id": "469398e8",
   "metadata": {},
   "outputs": [],
   "source": [
    "# Build a simple neural network\n",
    "model = tf.keras.models.Sequential([\n",
    "    tf.keras.layers.Input(shape=(4,)),      # 4 features in Iris\n",
    "    tf.keras.layers.Dense(10, activation='relu', ),\n",
    "    tf.keras.layers.Dense(8, activation='relu'),\n",
    "    tf.keras.layers.Dense(3, activation='softmax')  # 3 output classes\n",
    "])\n",
    "\n",
    "# Compile the model\n",
    "model.compile(optimizer='adam',\n",
    "              loss='categorical_crossentropy',\n",
    "              metrics=['accuracy'])\n",
    "\n"
   ]
  },
  {
   "cell_type": "code",
   "execution_count": 4,
   "id": "6f4fd3e9",
   "metadata": {},
   "outputs": [
    {
     "name": "stdout",
     "output_type": "stream",
     "text": [
      "Model: \"sequential\"\n",
      "_________________________________________________________________\n",
      " Layer (type)                Output Shape              Param #   \n",
      "=================================================================\n",
      " dense (Dense)               (None, 10)                50        \n",
      "                                                                 \n",
      " dense_1 (Dense)             (None, 8)                 88        \n",
      "                                                                 \n",
      " dense_2 (Dense)             (None, 3)                 27        \n",
      "                                                                 \n",
      "=================================================================\n",
      "Total params: 165 (660.00 Byte)\n",
      "Trainable params: 165 (660.00 Byte)\n",
      "Non-trainable params: 0 (0.00 Byte)\n",
      "_________________________________________________________________\n"
     ]
    }
   ],
   "source": [
    "model.summary()"
   ]
  },
  {
   "cell_type": "code",
   "execution_count": 5,
   "id": "8a33ac93",
   "metadata": {},
   "outputs": [
    {
     "name": "stdout",
     "output_type": "stream",
     "text": [
      "Epoch 1/50\n",
      "27/27 [==============================] - 0s 3ms/step - loss: 1.4437 - accuracy: 0.3519 - val_loss: 1.3983 - val_accuracy: 0.1667\n",
      "Epoch 2/50\n",
      "27/27 [==============================] - 0s 798us/step - loss: 1.3140 - accuracy: 0.3519 - val_loss: 1.2944 - val_accuracy: 0.1667\n",
      "Epoch 3/50\n",
      "27/27 [==============================] - 0s 794us/step - loss: 1.2210 - accuracy: 0.3519 - val_loss: 1.2065 - val_accuracy: 0.1667\n",
      "Epoch 4/50\n",
      "27/27 [==============================] - 0s 783us/step - loss: 1.1371 - accuracy: 0.3611 - val_loss: 1.1318 - val_accuracy: 0.1667\n",
      "Epoch 5/50\n",
      "27/27 [==============================] - 0s 715us/step - loss: 1.0564 - accuracy: 0.3611 - val_loss: 1.0657 - val_accuracy: 0.1667\n",
      "Epoch 6/50\n",
      "27/27 [==============================] - 0s 729us/step - loss: 0.9719 - accuracy: 0.3796 - val_loss: 1.0028 - val_accuracy: 0.2500\n",
      "Epoch 7/50\n",
      "27/27 [==============================] - 0s 810us/step - loss: 0.8902 - accuracy: 0.5093 - val_loss: 0.9421 - val_accuracy: 0.4167\n",
      "Epoch 8/50\n",
      "27/27 [==============================] - 0s 893us/step - loss: 0.8151 - accuracy: 0.5556 - val_loss: 0.8858 - val_accuracy: 0.7500\n",
      "Epoch 9/50\n",
      "27/27 [==============================] - 0s 711us/step - loss: 0.7486 - accuracy: 0.7130 - val_loss: 0.8319 - val_accuracy: 0.8333\n",
      "Epoch 10/50\n",
      "27/27 [==============================] - 0s 804us/step - loss: 0.6926 - accuracy: 0.7222 - val_loss: 0.7840 - val_accuracy: 0.8333\n",
      "Epoch 11/50\n",
      "27/27 [==============================] - 0s 734us/step - loss: 0.6435 - accuracy: 0.7407 - val_loss: 0.7365 - val_accuracy: 0.9167\n",
      "Epoch 12/50\n",
      "27/27 [==============================] - 0s 798us/step - loss: 0.5992 - accuracy: 0.7500 - val_loss: 0.6961 - val_accuracy: 0.9167\n",
      "Epoch 13/50\n",
      "27/27 [==============================] - 0s 702us/step - loss: 0.5569 - accuracy: 0.7593 - val_loss: 0.6529 - val_accuracy: 0.9167\n",
      "Epoch 14/50\n",
      "27/27 [==============================] - 0s 756us/step - loss: 0.5180 - accuracy: 0.8148 - val_loss: 0.6129 - val_accuracy: 0.9167\n",
      "Epoch 15/50\n",
      "27/27 [==============================] - 0s 743us/step - loss: 0.4800 - accuracy: 0.8611 - val_loss: 0.5692 - val_accuracy: 0.9167\n",
      "Epoch 16/50\n",
      "27/27 [==============================] - 0s 782us/step - loss: 0.4464 - accuracy: 0.8889 - val_loss: 0.5381 - val_accuracy: 0.9167\n",
      "Epoch 17/50\n",
      "27/27 [==============================] - 0s 760us/step - loss: 0.4148 - accuracy: 0.8981 - val_loss: 0.4988 - val_accuracy: 0.9167\n",
      "Epoch 18/50\n",
      "27/27 [==============================] - 0s 713us/step - loss: 0.3883 - accuracy: 0.9259 - val_loss: 0.4682 - val_accuracy: 0.9167\n",
      "Epoch 19/50\n",
      "27/27 [==============================] - 0s 739us/step - loss: 0.3616 - accuracy: 0.9352 - val_loss: 0.4408 - val_accuracy: 0.9167\n",
      "Epoch 20/50\n",
      "27/27 [==============================] - 0s 708us/step - loss: 0.3373 - accuracy: 0.9444 - val_loss: 0.4135 - val_accuracy: 0.9167\n",
      "Epoch 21/50\n",
      "27/27 [==============================] - 0s 747us/step - loss: 0.3176 - accuracy: 0.9537 - val_loss: 0.3898 - val_accuracy: 0.9167\n",
      "Epoch 22/50\n",
      "27/27 [==============================] - 0s 707us/step - loss: 0.2953 - accuracy: 0.9630 - val_loss: 0.3711 - val_accuracy: 0.9167\n",
      "Epoch 23/50\n",
      "27/27 [==============================] - 0s 724us/step - loss: 0.2788 - accuracy: 0.9630 - val_loss: 0.3532 - val_accuracy: 0.9167\n",
      "Epoch 24/50\n",
      "27/27 [==============================] - 0s 733us/step - loss: 0.2613 - accuracy: 0.9630 - val_loss: 0.3309 - val_accuracy: 0.9167\n",
      "Epoch 25/50\n",
      "27/27 [==============================] - 0s 738us/step - loss: 0.2457 - accuracy: 0.9630 - val_loss: 0.3160 - val_accuracy: 0.9167\n",
      "Epoch 26/50\n",
      "27/27 [==============================] - 0s 705us/step - loss: 0.2329 - accuracy: 0.9537 - val_loss: 0.3088 - val_accuracy: 1.0000\n",
      "Epoch 27/50\n",
      "27/27 [==============================] - 0s 736us/step - loss: 0.2189 - accuracy: 0.9537 - val_loss: 0.2842 - val_accuracy: 1.0000\n",
      "Epoch 28/50\n",
      "27/27 [==============================] - 0s 741us/step - loss: 0.2077 - accuracy: 0.9630 - val_loss: 0.2787 - val_accuracy: 1.0000\n",
      "Epoch 29/50\n",
      "27/27 [==============================] - 0s 743us/step - loss: 0.1956 - accuracy: 0.9630 - val_loss: 0.2643 - val_accuracy: 1.0000\n",
      "Epoch 30/50\n",
      "27/27 [==============================] - 0s 736us/step - loss: 0.1862 - accuracy: 0.9630 - val_loss: 0.2529 - val_accuracy: 1.0000\n",
      "Epoch 31/50\n",
      "27/27 [==============================] - 0s 712us/step - loss: 0.1773 - accuracy: 0.9537 - val_loss: 0.2451 - val_accuracy: 1.0000\n",
      "Epoch 32/50\n",
      "27/27 [==============================] - 0s 692us/step - loss: 0.1692 - accuracy: 0.9537 - val_loss: 0.2391 - val_accuracy: 1.0000\n",
      "Epoch 33/50\n",
      "27/27 [==============================] - 0s 704us/step - loss: 0.1647 - accuracy: 0.9630 - val_loss: 0.2266 - val_accuracy: 1.0000\n",
      "Epoch 34/50\n",
      "27/27 [==============================] - 0s 678us/step - loss: 0.1555 - accuracy: 0.9537 - val_loss: 0.2286 - val_accuracy: 0.9167\n",
      "Epoch 35/50\n",
      "27/27 [==============================] - 0s 728us/step - loss: 0.1484 - accuracy: 0.9537 - val_loss: 0.2102 - val_accuracy: 1.0000\n",
      "Epoch 36/50\n",
      "27/27 [==============================] - 0s 691us/step - loss: 0.1429 - accuracy: 0.9537 - val_loss: 0.2082 - val_accuracy: 0.9167\n",
      "Epoch 37/50\n",
      "27/27 [==============================] - 0s 767us/step - loss: 0.1377 - accuracy: 0.9537 - val_loss: 0.1977 - val_accuracy: 0.9167\n",
      "Epoch 38/50\n",
      "27/27 [==============================] - 0s 707us/step - loss: 0.1339 - accuracy: 0.9537 - val_loss: 0.2000 - val_accuracy: 0.9167\n",
      "Epoch 39/50\n",
      "27/27 [==============================] - 0s 715us/step - loss: 0.1280 - accuracy: 0.9537 - val_loss: 0.1897 - val_accuracy: 0.9167\n",
      "Epoch 40/50\n",
      "27/27 [==============================] - 0s 711us/step - loss: 0.1248 - accuracy: 0.9537 - val_loss: 0.1893 - val_accuracy: 0.9167\n",
      "Epoch 41/50\n",
      "27/27 [==============================] - 0s 702us/step - loss: 0.1204 - accuracy: 0.9537 - val_loss: 0.1828 - val_accuracy: 0.9167\n",
      "Epoch 42/50\n",
      "27/27 [==============================] - 0s 696us/step - loss: 0.1179 - accuracy: 0.9537 - val_loss: 0.1830 - val_accuracy: 0.9167\n",
      "Epoch 43/50\n",
      "27/27 [==============================] - 0s 721us/step - loss: 0.1144 - accuracy: 0.9537 - val_loss: 0.1762 - val_accuracy: 0.9167\n",
      "Epoch 44/50\n",
      "27/27 [==============================] - 0s 703us/step - loss: 0.1122 - accuracy: 0.9537 - val_loss: 0.1790 - val_accuracy: 0.9167\n",
      "Epoch 45/50\n",
      "27/27 [==============================] - 0s 721us/step - loss: 0.1088 - accuracy: 0.9537 - val_loss: 0.1738 - val_accuracy: 0.9167\n",
      "Epoch 46/50\n",
      "27/27 [==============================] - 0s 682us/step - loss: 0.1062 - accuracy: 0.9537 - val_loss: 0.1736 - val_accuracy: 0.9167\n",
      "Epoch 47/50\n",
      "27/27 [==============================] - 0s 683us/step - loss: 0.1051 - accuracy: 0.9537 - val_loss: 0.1706 - val_accuracy: 0.9167\n",
      "Epoch 48/50\n",
      "27/27 [==============================] - 0s 697us/step - loss: 0.1017 - accuracy: 0.9537 - val_loss: 0.1737 - val_accuracy: 0.9167\n",
      "Epoch 49/50\n",
      "27/27 [==============================] - 0s 714us/step - loss: 0.0998 - accuracy: 0.9537 - val_loss: 0.1736 - val_accuracy: 0.9167\n",
      "Epoch 50/50\n",
      "27/27 [==============================] - 0s 717us/step - loss: 0.0978 - accuracy: 0.9537 - val_loss: 0.1726 - val_accuracy: 0.9167\n",
      "\n",
      "Test Accuracy: 96.67%\n"
     ]
    }
   ],
   "source": [
    "# Train the model\n",
    "model.fit(x_train, y_train, epochs=50, batch_size=4, validation_split=0.1, verbose=1)\n",
    "\n",
    "# Evaluate on test set\n",
    "loss, accuracy = model.evaluate(x_test, y_test, verbose=0)\n",
    "print(f\"\\nTest Accuracy: {accuracy * 100:.2f}%\")"
   ]
  },
  {
   "cell_type": "code",
   "execution_count": null,
   "id": "aa9c7ec4",
   "metadata": {},
   "outputs": [
    {
     "name": "stdout",
     "output_type": "stream",
     "text": [
      "Interpreting Sequential\n",
      "Topology:\n",
      "Layer name: input_1, layer type: InputLayer, input shapes: [[None, 4]], output shape: [None, 4]\n",
      "Layer name: dense, layer type: Dense, input shapes: [[None, 4]], output shape: [None, 10]\n",
      "Layer name: dense_1, layer type: Dense, input shapes: [[None, 10]], output shape: [None, 8]\n",
      "Layer name: dense_2, layer type: Dense, input shapes: [[None, 8]], output shape: [None, 3]\n",
      "Interpreting Sequential\n",
      "Topology:\n",
      "Layer name: input_1, layer type: InputLayer, input shapes: [[None, 4]], output shape: [None, 4]\n",
      "Layer name: dense, layer type: Dense, input shapes: [[None, 4]], output shape: [None, 10]\n",
      "Layer name: dense_1, layer type: Dense, input shapes: [[None, 10]], output shape: [None, 8]\n",
      "Layer name: dense_2, layer type: Dense, input shapes: [[None, 8]], output shape: [None, 3]\n",
      "Creating HLS model\n",
      "Writing HLS project\n",
      "Done\n"
     ]
    }
   ],
   "source": [
    "import hls4ml \n",
    "\n",
    "config = hls4ml.utils.config_from_keras_model(model, granularity='model', backend='Vitis')\n",
    "\n",
    "config['Model']['ReuseFactor'] = 64\n",
    "hls_model = hls4ml.converters.convert_from_keras_model(model, \n",
    "                                                       hls_config=config, \n",
    "                                                       backend='VivadoAccelerator', \n",
    "                                                       output_dir='Projects/Iris', \n",
    "                                                       part='xc7z020clg400-1')\n",
    "hls_model.compile()"
   ]
  },
  {
   "cell_type": "code",
   "execution_count": null,
   "id": "25ca49ff",
   "metadata": {},
   "outputs": [],
   "source": []
  },
  {
   "cell_type": "code",
   "execution_count": 7,
   "id": "625a76ff",
   "metadata": {},
   "outputs": [
    {
     "ename": "TypeError",
     "evalue": "VivadoBackend.build() got an unexpected keyword argument 'bitfile'",
     "output_type": "error",
     "traceback": [
      "\u001b[0;31m---------------------------------------------------------------------------\u001b[0m",
      "\u001b[0;31mTypeError\u001b[0m                                 Traceback (most recent call last)",
      "Cell \u001b[0;32mIn[7], line 1\u001b[0m\n\u001b[0;32m----> 1\u001b[0m \u001b[43mhls_model\u001b[49m\u001b[38;5;241;43m.\u001b[39;49m\u001b[43mbuild\u001b[49m\u001b[43m(\u001b[49m\u001b[43mcsim\u001b[49m\u001b[38;5;241;43m=\u001b[39;49m\u001b[38;5;28;43;01mFalse\u001b[39;49;00m\u001b[43m,\u001b[49m\u001b[43m \u001b[49m\u001b[43mexport\u001b[49m\u001b[38;5;241;43m=\u001b[39;49m\u001b[38;5;28;43;01mTrue\u001b[39;49;00m\u001b[43m,\u001b[49m\u001b[43m \u001b[49m\u001b[43mbitfile\u001b[49m\u001b[38;5;241;43m=\u001b[39;49m\u001b[38;5;28;43;01mTrue\u001b[39;49;00m\u001b[43m)\u001b[49m\n",
      "File \u001b[0;32m~/Documents/AI_ON_FPGA/.venv/lib/python3.10/site-packages/hls4ml/model/graph.py:896\u001b[0m, in \u001b[0;36mModelGraph.build\u001b[0;34m(self, **kwargs)\u001b[0m\n\u001b[1;32m    892\u001b[0m \u001b[38;5;28;01mif\u001b[39;00m \u001b[38;5;129;01mnot\u001b[39;00m os\u001b[38;5;241m.\u001b[39mpath\u001b[38;5;241m.\u001b[39mexists(\u001b[38;5;28mself\u001b[39m\u001b[38;5;241m.\u001b[39mconfig\u001b[38;5;241m.\u001b[39mget_output_dir()):\n\u001b[1;32m    893\u001b[0m     \u001b[38;5;66;03m# Assume the project wasn't written before\u001b[39;00m\n\u001b[1;32m    894\u001b[0m     \u001b[38;5;28mself\u001b[39m\u001b[38;5;241m.\u001b[39mwrite()\n\u001b[0;32m--> 896\u001b[0m \u001b[38;5;28;01mreturn\u001b[39;00m \u001b[38;5;28;43mself\u001b[39;49m\u001b[38;5;241;43m.\u001b[39;49m\u001b[43mconfig\u001b[49m\u001b[38;5;241;43m.\u001b[39;49m\u001b[43mbackend\u001b[49m\u001b[38;5;241;43m.\u001b[39;49m\u001b[43mbuild\u001b[49m\u001b[43m(\u001b[49m\u001b[38;5;28;43mself\u001b[39;49m\u001b[43m,\u001b[49m\u001b[43m \u001b[49m\u001b[38;5;241;43m*\u001b[39;49m\u001b[38;5;241;43m*\u001b[39;49m\u001b[43mkwargs\u001b[49m\u001b[43m)\u001b[49m\n",
      "\u001b[0;31mTypeError\u001b[0m: VivadoBackend.build() got an unexpected keyword argument 'bitfile'"
     ]
    }
   ],
   "source": [
    "\n",
    "hls_model.build(csim=False, export=True, bitfile=True)"
   ]
  },
  {
   "cell_type": "code",
   "execution_count": null,
   "id": "08ad1b45",
   "metadata": {},
   "outputs": [],
   "source": [
    "!rm -rf Projects/Iris"
   ]
  }
 ],
 "metadata": {
  "kernelspec": {
   "display_name": ".venv",
   "language": "python",
   "name": "python3"
  },
  "language_info": {
   "codemirror_mode": {
    "name": "ipython",
    "version": 3
   },
   "file_extension": ".py",
   "mimetype": "text/x-python",
   "name": "python",
   "nbconvert_exporter": "python",
   "pygments_lexer": "ipython3",
   "version": "3.10.12"
  }
 },
 "nbformat": 4,
 "nbformat_minor": 5
}
